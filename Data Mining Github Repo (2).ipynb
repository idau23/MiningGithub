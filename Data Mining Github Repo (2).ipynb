{
 "cells": [
  {
   "cell_type": "code",
   "execution_count": 0,
   "metadata": {
    "collapsed": false
   },
   "outputs": [
   ],
   "source": [
    "#install packages\n",
    "install.packages('jsonlite')\n",
    "require(devtools)\n",
    "install_github(\"cscheid/rgithub\")\n"
   ]
  },
  {
   "cell_type": "code",
   "execution_count": 0,
   "metadata": {
    "collapsed": false
   },
   "outputs": [
   ],
   "source": [
    "# load libraries\n",
    "library(github)\n",
    "library(jsonlite)\n",
    "library(stringr)\n",
    "library(ggplot2)\n"
   ]
  },
  {
   "cell_type": "code",
   "execution_count": 0,
   "metadata": {
    "collapsed": false
   },
   "outputs": [
   ],
   "source": [
    "# github repos autentication\n",
    "clientID<-\"your_client_id_goes_here\"\n",
    "clientSecret<-\"your_secret_goes_here\"\n",
    "context<-interactive.login(clientID,clientSecret)"
   ]
  },
  {
   "cell_type": "code",
   "execution_count": 0,
   "metadata": {
    "collapsed": false
   },
   "outputs": [
   ],
   "source": [
    "# get github repository languages\n",
    "myRepository<-get.my.repository(context)\n",
    "# get number of my repository\n",
    "numFollowing<-length(myrepository$content)"
   ]
  },
  {
   "cell_type": "code",
   "execution_count": 0,
   "metadata": {
    "collapsed": false
   },
   "outputs": [
   ],
   "source": [
    "# create a dataset with your repository\n",
    "dataset<-unlist(myrepository$content[[1]])\n",
    "for(i in 2:length(myrepository$content)){\n",
    "  dataset<-rbind(dataset,unlist(myrepository$content[[i]]))"
   ]
  },
  {
   "cell_type": "code",
   "execution_count": 0,
   "metadata": {
    "collapsed": false
   },
   "outputs": [
   ],
   "source": [
    "# create a data frame and save it for later use\n",
    "dataset<-unname(dataset)\n",
    "dataset<-as.data.frame(dataset)\n",
    "colnames(dataset)<-c(names(myrepository$content[[1]]))\n",
    "write.csv(dataset,file=\"repositorylan.csv\")"
   ]
  },
  {
   "cell_type": "code",
   "execution_count": 0,
   "metadata": {
    "collapsed": false
   },
   "outputs": [
   ],
   "source": [
    "# read latest created csv\n",
    "myGitProfiles<-read.csv(\"repositorylan.csv\")"
   ]
  },
  {
   "cell_type": "code",
   "execution_count": 0,
   "metadata": {
    "collapsed": false
   },
   "outputs": [
   ],
   "source": [
    "# extract the names\n",
    "unname<-as.character(myGitProfiles$login)\n",
    "\n",
    "# extract data from public repositories\n",
    "compdata<- NULL"
   ]
  },
  {
   "cell_type": "code",
   "execution_count": 0,
   "metadata": {
    "collapsed": false
   },
   "outputs": [
   ],
   "source": [
    "for(i in 1:nrow(myRepositories)){\n",
    "  data<-fromJSON(paste0(\"https://api.github.com/users/\",str_trim(unname[i],side = \"both\"),\"/repos?clientID&clientSecret\"))\n",
    "  if(length(data)!=0){\n",
    "    data<-data[,-4]\n",
    "    compdata<-rbind(compdata,data)\n",
    "  }\n",
    "}"
   ]
  },
  {
   "cell_type": "code",
   "execution_count": 0,
   "metadata": {
    "collapsed": false
   },
   "outputs": [
   ],
   "source": [
    "# write data for reuse\n",
    "write.csv(compdata,\"UsersWithRepoInfo.csv\")"
   ]
  },
  {
   "cell_type": "code",
   "execution_count": 0,
   "metadata": {
    "collapsed": false
   },
   "outputs": [
   ],
   "source": [
    "#data processing\n",
    "# make date format supported by R\n",
    "date.format<-function(datestring){\n",
    "  date<-as.POSIXct(datestring,format=\"%Y-%m-%d %H:%M:%S\",tz=\"Europe/Madrid\", usetz=TRUE)\n",
    "}"
   ]
  },
  {
   "cell_type": "code",
   "execution_count": 0,
   "metadata": {
    "collapsed": false
   },
   "outputs": [
   ],
   "source": [
    "# update dates with new format\n",
    "activeGitProfiles$created_at<-date.format(activeGitProfiles$created_at)\n",
    "activeGitProfiles$updated_at<-date.format(activeGitProfiles$updated_at)\n",
    "activeGitProfiles$pushed_at<-date.format(activeGitProfiles$pushed_at)"
   ]
  },
  {
   "cell_type": "code",
   "execution_count": 0,
   "metadata": {
    "collapsed": false
   },
   "outputs": [
   ],
   "source": [
    "# selecting just cols\n",
    "activeGitProfiles<-activeGitProfiles[,c(\"id\",\"name\",\"full_name\",\"private\",\"description\",\"fork\",\"created_at\",\n",
    "\"updated_at\",\"pushed_at\",\"homepage\",\"size\",\"stargazers_count\",\"watchers_count\",\"language\",\"has_issues\",\n",
    "\"has_downloads\",\"forks_count\",\"open_issues_count\",\"forks\",\"open_issues\",\"watchers\")]"
   ]
  },
  {
   "cell_type": "markdown",
   "metadata": {
    "collapsed": false
   },
   "source": [
   ]
  },
  {
   "cell_type": "code",
   "execution_count": 0,
   "metadata": {
    "collapsed": false
   },
   "outputs": [
   ],
   "source": [
    "activeGitProfiles$private<-as.integer(activeGitProfiles$private)\n",
    "activeGitProfiles$has_issues<-as.integer(activeGitProfiles$has_issues)\n",
    "activeGitProfiles$fork<-as.integer(activeGitProfiles$fork)\n",
    "activeGitProfiles$has_downloads<-as.integer(activeGitProfiles$has_downloads)"
   ]
  },
  {
   "cell_type": "markdown",
   "metadata": {
    "collapsed": false
   },
   "source": [
    "# Getting the username of repos"
   ]
  },
  {
   "cell_type": "code",
   "execution_count": 0,
   "metadata": {
    "collapsed": false
   },
   "outputs": [
   ],
   "source": [
    "activeGitProfiles$full_name<-unlist(lapply(strsplit(as.character(activeGitProfiles$full_name),split = '/',fixed = TRUE),function(x) (x[1])))\n"
   ]
  },
  {
   "cell_type": "markdown",
   "metadata": {
    "collapsed": false
   },
   "source": [
    "# programming language popularity"
   ]
  },
  {
   "cell_type": "code",
   "execution_count": 0,
   "metadata": {
    "collapsed": false
   },
   "outputs": [
   ],
   "source": [
    "summary(activeGitProfiles)"
   ]
  },
  {
   "cell_type": "markdown",
   "metadata": {
    "collapsed": false
   },
   "source": [
    "       id                 name      full_name            private                                                                      description\n",
    "Min.   : 2054512   IV      :  4   Length:524         Min.   :0   Virtual infrastructure subject for the Computer Science Degree            :  4\n",
    "1st Qu.:32878832   blog    :  3   Class :character   1st Qu.:0   Repository for the subject Virtual Infrastructure of 2016-2017            :  3\n",
    "Median :51252063   DAI     :  3   Mode  :character   Median :0   An example repo in Ruby for continuous integration with Travis CI         :  2\n",
    "Mean   :51191269   IV16-17 :  3                      Mean   :0   Curso de LaTeX organizado por AMAT para alumnos de Trabajo de Fin de Grado:  2\n",
    "3rd Qu.:70082791   swap1415:  3                      3rd Qu.:0   Different scripts for representing  numbers                               :  2\n",
    "Max.   :88848228   TFG     :  3                      Max.   :0   (Other)                                                                   :404\n",
    "                   (Other) :505                                  NA's "
   ]
  },
  {
   "cell_type": "code",
   "execution_count": 0,
   "metadata": {
    "collapsed": false
   },
   "outputs": [
   ],
   "source": [
    "languagesAndUse<-table(activeGitProfiles$language)\n",
    "languagesAndUse"
   ]
  },
  {
   "cell_type": "markdown",
   "metadata": {
    "collapsed": false
   },
   "source": [
    "         Arduino                C               C#              C++            CLIPS              CSS             Dart\n",
    "               1               13                7               55                5               19                2\n",
    "      Emacs Lisp              GAP         GDScript               Go           Groovy          Haskell             HTML\n",
    "               2                1                1                3                1                2               48\n",
    "            Java       JavaScript Jupyter Notebook              Lex              Lua         Makefile      Mathematica\n",
    "              60               67                3                1                1                6                2\n",
    "             PHP       PostScript           Prolog           Python                R             Ruby            Scala\n",
    "               8                2                1               56               12               24                1\n",
    "           Shell              TeX       TypeScript\n",
    "               7               38                1"
   ]
  },
  {
   "cell_type": "code",
   "execution_count": 0,
   "metadata": {
    "collapsed": false
   },
   "outputs": [
   ],
   "source": [
    "#plotting visuals\n",
    "#plot histogram using qplot afrom ggplot2 package\n",
    "languages<-na.omit(activeGitProfiles$language)\n",
    "langUssage<-qplot(languages,geom = \"bar\",xlab = \"Language\", ylab=\"Usage\",fill=I(\"cornflowerblue\"))\n",
    "langUssage+theme(axis.text.x = element_text(angle = 90,hjust = 1)) +ggtitle(\"Programming languages used by my GitProfiles\")+theme(plot.title = element_text(hjust = 0.5))\n"
   ]
  },
  {
   "cell_type": "code",
   "execution_count": 0,
   "metadata": {
    "collapsed": false
   },
   "outputs": [
   ],
   "source": [
   ]
  },
  {
   "cell_type": "markdown",
   "metadata": {
    "collapsed": false
   },
   "source": [
    "<span style='color:#4caf50'>**What was your starting point?**</span>\n"
   ]
  },
  {
   "cell_type": "markdown",
   "metadata": {
    "collapsed": false
   },
   "source": [
    "<span style='color:#ffc107'>**The repository mining starting point was scanning and identifying GitHub repository accounts for analysis**</span>\n"
   ]
  },
  {
   "cell_type": "markdown",
   "metadata": {
    "collapsed": false
   },
   "source": [
    "<span style='color:#4caf50'>**Based on your visualization, what are the top 4 languages by user popularity? How many users use the most popular language? \\(You may need to consult your numbers for that\\)**</span>\n"
   ]
  },
  {
   "cell_type": "code",
   "execution_count": 0,
   "metadata": {
    "collapsed": false
   },
   "outputs": [
   ],
   "source": [
    "[u'pygithub', u'python', u'github', u'github-api']\n",
    ">>> user = g.get_user()\n",
    ">>> user.login\n",
    "u'PyGithub'\n",
    "\n",
    ">>> user = g.search_repositories(query='language:python')\n",
    ">>> for user in repositories:\n",
    "...    print(user)\n",
    "...\n",
    "Repository(full_name=\"vinta/awesome-python\")\n",
    "Repository(full_name=\"donnemartin/system-design-primer\")\n",
    "Repository(full_name=\"toddmotto/public-apis\")\n",
    "Repository(full_name=\"rg3/youtube-dl\")\n",
    "Repository(full_name=\"tensorflow/models\")\n",
    "Repository(full_name=\"django/django\")"
   ]
  },
  {
   "cell_type": "markdown",
   "metadata": {
    "collapsed": false
   },
   "source": [
    "<span style='color:#ffc107'>**Four Languages per user popularity are, JavaScript, Java, C\\+\\+, and Python.**</span>\n",
    "\n",
    "<span style='color:#ffc107'>**JavaScript is the most used by 67 users in their repositories**</span>\n"
   ]
  },
  {
   "cell_type": "markdown",
   "metadata": {
    "collapsed": false
   },
   "source": [
    "<span style='color:#4caf50'>**Based on your visualization, what are the top 4 languages by repo usage? How many repos are written in the most used language?**</span>\n"
   ]
  },
  {
   "cell_type": "code",
   "execution_count": 0,
   "metadata": {
    "collapsed": false
   },
   "outputs": [
   ],
   "source": [
    ">>> repositories = g.search_repositories(query='language:python')\n",
    ">>> for repo in repositories:\n",
    "...    print(repo)\n",
    "...\n",
    "Repository(full_name=\"vinta/awesome-python\")\n",
    "Repository(full_name=\"donnemartin/system-design-primer\")\n",
    "Repository(full_name=\"toddmotto/public-apis\")\n",
    "Repository(full_name=\"rg3/youtube-dl\")\n",
    "Repository(full_name=\"tensorflow/models\")\n",
    "Repository(full_name=\"django/django\")"
   ]
  },
  {
   "cell_type": "markdown",
   "metadata": {
    "collapsed": false
   },
   "source": [
    "<span style='color:#ffc107'>**Four Languages per repo popularity are, JavaScript, Tex code, LaTex, and Html.**</span>\n",
    "\n",
    "<span style='color:#ffc107'>**JavaScript is the most used in 67 repos followed by Tex code in 38 repos.**</span>\n"
   ]
  },
  {
   "cell_type": "markdown",
   "metadata": {
    "collapsed": false
   },
   "source": [
    "<span style='color:#4caf50'>**How many nodes were in your total graph**</span>\n"
   ]
  },
  {
   "cell_type": "markdown",
   "metadata": {
    "collapsed": false
   },
   "source": [
    "<span style='color:#ffc107'>**There were a total of 156 nodes before graph reduction to subgraphs**</span>\n"
   ]
  },
  {
   "cell_type": "markdown",
   "metadata": {
    "collapsed": false
   },
   "source": [
    "<span style='color:#4caf50'>**How many levels away from the starting point were you able to get in your graph mining?**</span>\n"
   ]
  },
  {
   "cell_type": "markdown",
   "metadata": {
    "collapsed": false
   },
   "source": [
    "<span style='color:#ffc107'>**4 levels**</span>\n"
   ]
  },
  {
   "cell_type": "markdown",
   "metadata": {
    "collapsed": false
   },
   "source": [
    "1. <span style='color:#4caf50'>**How many open issues does neovim/neovim repository have?**</span>\n",
    "\n"
   ]
  },
  {
   "cell_type": "code",
   "execution_count": 0,
   "metadata": {
    "collapsed": false
   },
   "outputs": [
   ],
   "source": [
    "[u'pygithub', u'python', u'github', u'github-api']\n",
    ">>> repo = g.get_repo(\"neovim/neovim\")\n",
    ">>> open_issues = repo.get_issues(state='open')\n",
    ">>> for issue in open_issues:\n",
    "...     print(issue)\n",
    "...\n",
    "Issue(title=\"statusline doesn't update after starting macro recording\", number=803)\n",
    "Issue(title=\"Treesitter performance (tracking issue)\", number=1320)\n",
    "Issue(title=\"Winget Version 0.8.3 has not been published\", number=901)\n",
    "Issue(title=\"work by default for nvim api functions in lua buffers\", number=2003)\n",
    "Issue(title=\"doesn't always adjust cursor to stay on same character\", number=1980)"
   ]
  },
  {
   "cell_type": "markdown",
   "metadata": {
    "collapsed": false
   },
   "source": [
    "<span style='color:#ffc107'>**The neovim repository has 1.4k open issues**</span>\n"
   ]
  },
  {
   "cell_type": "markdown",
   "metadata": {
    "collapsed": false
   },
   "source": [
    "2. <span style='color:#4caf50'>**Which repository has more stars: vim /vim or emacs\\-mirror / emacs**</span>\n",
    "\n"
   ]
  },
  {
   "cell_type": "code",
   "execution_count": 0,
   "metadata": {
    "collapsed": false
   },
   "outputs": [
   ],
   "source": [
    "[u'pygithub', u'python', u'github', u'github-api']\n",
    ">>> repo = g.get_repo(\"PyGithub/PyGithub\")\n",
    ">>> repo = g.get_repo(\"vim/vim\", \"emacs-mirror/emacs\")\n",
    ">>> repo.stargazers_count\n",
    "[29800], [3800]"
   ]
  },
  {
   "cell_type": "markdown",
   "metadata": {
    "collapsed": false
   },
   "source": [
    "<span style='color:#ffc107'>**vim / vim**</span>\n"
   ]
  },
  {
   "cell_type": "markdown",
   "metadata": {
    "collapsed": false
   },
   "source": [
    "3. <span style='color:#4caf50'>**Who has starred more repositories torvalds or gvanrossum**</span>\n",
    "\n"
   ]
  },
  {
   "cell_type": "code",
   "execution_count": 0,
   "metadata": {
    "collapsed": false
   },
   "outputs": [
   ],
   "source": [
    "[u'pygithub', u'python', u'github', u'github-api']\n",
    ">>> repo = g.get_repo(\"torvalds\", \"gvanrossum\")\n",
    ">>> repo.stargazers_count\n",
    "[1600], [94]"
   ]
  },
  {
   "cell_type": "markdown",
   "metadata": {
    "collapsed": false
   },
   "source": [
    "<span style='color:#ffc107'>**torvalds**</span>\n"
   ]
  },
  {
   "cell_type": "markdown",
   "metadata": {
    "collapsed": false
   },
   "source": [
    "4. <span style='color:#4caf50'>**How many public repositories does timbl have?**</span>\n",
    "\n"
   ]
  },
  {
   "cell_type": "code",
   "execution_count": 0,
   "metadata": {
    "collapsed": false
   },
   "outputs": [
   ],
   "source": [
    "[u'pygithub', u'python', u'github', u'github-api']\n",
    ">>> repo = g.get_repo(\"PyGithub/PyGithub\")\n",
    ">>> repo = g.get_repo(\"timbl\")\n",
    ">>> repo.public_count\n",
    "[126]"
   ]
  },
  {
   "cell_type": "markdown",
   "metadata": {
    "collapsed": false
   },
   "source": [
    "<span style='color:#ffc107'>**126 public repositories**</span>\n"
   ]
  },
  {
   "cell_type": "markdown",
   "metadata": {
    "collapsed": false
   },
   "source": [
    "5. <span style='color:#4caf50'>**Pick a GitHub repository for a project you are interested in and answer following questions about it.**</span>\n",
    "\n"
   ]
  },
  {
   "cell_type": "code",
   "execution_count": 0,
   "metadata": {
    "collapsed": false
   },
   "outputs": [
   ],
   "source": [
    "[u'pygithub', u'python', u'github', u'github-api']\n",
    ">>> repo = g.get_repo(\"techwithtim/Sudoku-GUI-Solver\")\n",
    ">>> repo.stargazers_count\n",
    "[621]\n",
    "\n",
    "# sha -> commit on which the status check will be created\n",
    "# For example, for a webhook payload\n",
    "# sha = data[\"pull_request\"][\"head\"][\"sha\"]\n",
    "repo.get_commit(sha=sha).create_status(\n",
    "    state=\"pending\",\n",
    "    target_url=\"https://github.com/techwithtim/Sudoku-GUI-Solver\",\n",
    "    description=\"Sudoku-GUI-Solver\",\n",
    "    context=\"ci/FooCI\"\n",
    ")\n",
    "\n",
    "[28]\n",
    "\n",
    ">>> repo = g.get_repo(\"PyGithub/PyGithub\")\n",
    ">>> repo.get_branch(branch=\"master\")\n",
    "Branch(name=\"master\")\n",
    "[1]"
   ]
  },
  {
   "cell_type": "markdown",
   "metadata": {
    "collapsed": false
   },
   "source": [
    "- <span style='color:#ffc107'>**techwithtim/Sudoku\\-GUI\\-Solver**</span>\n",
    "- <span style='color:#ffc107'>**Has 621 stars**</span>\n",
    "- <span style='color:#ffc107'>**The repo has been forked 28 times**</span>\n",
    "- <span style='color:#ffc107'>**The repo has 1 master branch**</span>\n",
    "\n"
   ]
  },
  {
   "cell_type": "code",
   "execution_count": 0,
   "metadata": {
    "collapsed": false
   },
   "outputs": [
   ],
   "source": [
   ]
  },
  {
   "cell_type": "code",
   "execution_count": 0,
   "metadata": {
    "collapsed": false
   },
   "outputs": [
   ],
   "source": [
    "\n",
    "\n"
   ]
  }
 ],
 "metadata": {
  "kernelspec": {
   "display_name": "Python 3 (system-wide)",
   "language": "python",
   "metadata": {
    "cocalc": {
     "description": "Python 3 programming language",
     "priority": 100,
     "url": "https://www.python.org/"
    }
   },
   "name": "python3",
   "resource_dir": "/ext/jupyter/kernels/python3"
  }
 },
 "nbformat": 4,
 "nbformat_minor": 4
}